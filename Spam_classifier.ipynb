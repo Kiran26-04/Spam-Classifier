{
 "cells": [
  {
   "cell_type": "code",
   "execution_count": 22,
   "metadata": {},
   "outputs": [],
   "source": [
    "import os\n",
    "import io\n",
    "import numpy\n",
    "from pandas import DataFrame\n",
    "from sklearn.feature_extraction.text import CountVectorizer\n",
    "from sklearn.naive_bayes import MultinomialNB\n",
    "\n",
    "def readFiles(path):   #just reading the data files\n",
    "    for root, dirnames, filenames in os.walk(path):\n",
    "        for filename in filenames:\n",
    "            path = os.path.join(root, filename)\n",
    "\n",
    "            inBody = False\n",
    "            lines = []\n",
    "            f = io.open(path, 'r', encoding='latin1')\n",
    "            for line in f:\n",
    "                if inBody:\n",
    "                    lines.append(line)\n",
    "                elif line == '\\n':\n",
    "                    inBody = True\n",
    "            f.close()\n",
    "            message = '\\n'.join(lines)\n",
    "            yield path, message\n",
    "\n",
    "\n",
    "def dataFrameFromDirectory(path, classification):\n",
    "    rows = []\n",
    "    index = []\n",
    "    for filename, message in readFiles(path):\n",
    "        rows.append({'message': message, 'class': classification}) \n",
    "        index.append(filename)\n",
    "\n",
    "    return DataFrame(rows, index=index)\n",
    "\n",
    "data = DataFrame({'message': [], 'class': []}) #making a kind of database that will display the message and the class of that\n",
    "\n",
    "data = data.append(dataFrameFromDirectory('C:/MLCourse/emails/spam', 'spam')) #change the path of the directory in which you have saved the folder in ur system.\n",
    "data = data.append(dataFrameFromDirectory('C:/MLCourse/emails/ham', 'ham'))"
   ]
  },
  {
   "cell_type": "code",
   "execution_count": 23,
   "metadata": {},
   "outputs": [
    {
     "data": {
      "text/html": [
       "<div>\n",
       "<style scoped>\n",
       "    .dataframe tbody tr th:only-of-type {\n",
       "        vertical-align: middle;\n",
       "    }\n",
       "\n",
       "    .dataframe tbody tr th {\n",
       "        vertical-align: top;\n",
       "    }\n",
       "\n",
       "    .dataframe thead th {\n",
       "        text-align: right;\n",
       "    }\n",
       "</style>\n",
       "<table border=\"1\" class=\"dataframe\">\n",
       "  <thead>\n",
       "    <tr style=\"text-align: right;\">\n",
       "      <th></th>\n",
       "      <th>message</th>\n",
       "      <th>class</th>\n",
       "    </tr>\n",
       "  </thead>\n",
       "  <tbody>\n",
       "    <tr>\n",
       "      <th>C:/MLCourse/emails/spam\\00001.7848dde101aa985090474a91ec93fcf0</th>\n",
       "      <td>&lt;!DOCTYPE HTML PUBLIC \"-//W3C//DTD HTML 4.0 Tr...</td>\n",
       "      <td>spam</td>\n",
       "    </tr>\n",
       "    <tr>\n",
       "      <th>C:/MLCourse/emails/spam\\00002.d94f1b97e48ed3b553b3508d116e6a09</th>\n",
       "      <td>1) Fight The Risk of Cancer!\\n\\nhttp://www.adc...</td>\n",
       "      <td>spam</td>\n",
       "    </tr>\n",
       "    <tr>\n",
       "      <th>C:/MLCourse/emails/spam\\00003.2ee33bc6eacdb11f38d052c44819ba6c</th>\n",
       "      <td>1) Fight The Risk of Cancer!\\n\\nhttp://www.adc...</td>\n",
       "      <td>spam</td>\n",
       "    </tr>\n",
       "    <tr>\n",
       "      <th>C:/MLCourse/emails/spam\\00004.eac8de8d759b7e74154f142194282724</th>\n",
       "      <td>##############################################...</td>\n",
       "      <td>spam</td>\n",
       "    </tr>\n",
       "    <tr>\n",
       "      <th>C:/MLCourse/emails/spam\\00005.57696a39d7d84318ce497886896bf90d</th>\n",
       "      <td>I thought you might like these:\\n\\n1) Slim Dow...</td>\n",
       "      <td>spam</td>\n",
       "    </tr>\n",
       "    <tr>\n",
       "      <th>C:/MLCourse/emails/spam\\00006.5ab5620d3d7c6c0db76234556a16f6c1</th>\n",
       "      <td>A POWERHOUSE GIFTING PROGRAM You Don't Want To...</td>\n",
       "      <td>spam</td>\n",
       "    </tr>\n",
       "    <tr>\n",
       "      <th>C:/MLCourse/emails/spam\\00007.d8521faf753ff9ee989122f6816f87d7</th>\n",
       "      <td>Help wanted.  We are a 14 year old fortune 500...</td>\n",
       "      <td>spam</td>\n",
       "    </tr>\n",
       "    <tr>\n",
       "      <th>C:/MLCourse/emails/spam\\00008.dfd941deb10f5eed78b1594b131c9266</th>\n",
       "      <td>&lt;html&gt;\\n\\n&lt;head&gt;\\n\\n&lt;title&gt;ReliaQuote - Save U...</td>\n",
       "      <td>spam</td>\n",
       "    </tr>\n",
       "    <tr>\n",
       "      <th>C:/MLCourse/emails/spam\\00009.027bf6e0b0c4ab34db3ce0ea4bf2edab</th>\n",
       "      <td>TIRED OF THE BULL OUT THERE?\\n\\nWant To Stop L...</td>\n",
       "      <td>spam</td>\n",
       "    </tr>\n",
       "    <tr>\n",
       "      <th>C:/MLCourse/emails/spam\\00010.445affef4c70feec58f9198cfbc22997</th>\n",
       "      <td>Dear ricardo1 ,\\n\\n\\n\\n&lt;html&gt;\\n\\n&lt;body&gt;\\n\\n&lt;ce...</td>\n",
       "      <td>spam</td>\n",
       "    </tr>\n",
       "  </tbody>\n",
       "</table>\n",
       "</div>"
      ],
      "text/plain": [
       "                                                                                              message  \\\n",
       "C:/MLCourse/emails/spam\\00001.7848dde101aa98509...  <!DOCTYPE HTML PUBLIC \"-//W3C//DTD HTML 4.0 Tr...   \n",
       "C:/MLCourse/emails/spam\\00002.d94f1b97e48ed3b55...  1) Fight The Risk of Cancer!\\n\\nhttp://www.adc...   \n",
       "C:/MLCourse/emails/spam\\00003.2ee33bc6eacdb11f3...  1) Fight The Risk of Cancer!\\n\\nhttp://www.adc...   \n",
       "C:/MLCourse/emails/spam\\00004.eac8de8d759b7e741...  ##############################################...   \n",
       "C:/MLCourse/emails/spam\\00005.57696a39d7d84318c...  I thought you might like these:\\n\\n1) Slim Dow...   \n",
       "C:/MLCourse/emails/spam\\00006.5ab5620d3d7c6c0db...  A POWERHOUSE GIFTING PROGRAM You Don't Want To...   \n",
       "C:/MLCourse/emails/spam\\00007.d8521faf753ff9ee9...  Help wanted.  We are a 14 year old fortune 500...   \n",
       "C:/MLCourse/emails/spam\\00008.dfd941deb10f5eed7...  <html>\\n\\n<head>\\n\\n<title>ReliaQuote - Save U...   \n",
       "C:/MLCourse/emails/spam\\00009.027bf6e0b0c4ab34d...  TIRED OF THE BULL OUT THERE?\\n\\nWant To Stop L...   \n",
       "C:/MLCourse/emails/spam\\00010.445affef4c70feec5...  Dear ricardo1 ,\\n\\n\\n\\n<html>\\n\\n<body>\\n\\n<ce...   \n",
       "\n",
       "                                                   class  \n",
       "C:/MLCourse/emails/spam\\00001.7848dde101aa98509...  spam  \n",
       "C:/MLCourse/emails/spam\\00002.d94f1b97e48ed3b55...  spam  \n",
       "C:/MLCourse/emails/spam\\00003.2ee33bc6eacdb11f3...  spam  \n",
       "C:/MLCourse/emails/spam\\00004.eac8de8d759b7e741...  spam  \n",
       "C:/MLCourse/emails/spam\\00005.57696a39d7d84318c...  spam  \n",
       "C:/MLCourse/emails/spam\\00006.5ab5620d3d7c6c0db...  spam  \n",
       "C:/MLCourse/emails/spam\\00007.d8521faf753ff9ee9...  spam  \n",
       "C:/MLCourse/emails/spam\\00008.dfd941deb10f5eed7...  spam  \n",
       "C:/MLCourse/emails/spam\\00009.027bf6e0b0c4ab34d...  spam  \n",
       "C:/MLCourse/emails/spam\\00010.445affef4c70feec5...  spam  "
      ]
     },
     "execution_count": 23,
     "metadata": {},
     "output_type": "execute_result"
    }
   ],
   "source": [
    "data.head(10)   #to look at the DataFrame"
   ]
  },
  {
   "cell_type": "markdown",
   "metadata": {},
   "source": [
    "Above is our dataframe. Now, to split each word of the message into a list of words, we'll use CountVectorizer and apply MultinomialNB() on that."
   ]
  },
  {
   "cell_type": "code",
   "execution_count": 24,
   "metadata": {},
   "outputs": [
    {
     "data": {
      "text/plain": [
       "MultinomialNB()"
      ]
     },
     "execution_count": 24,
     "metadata": {},
     "output_type": "execute_result"
    }
   ],
   "source": [
    "vectorizer = CountVectorizer()\n",
    "counts = vectorizer.fit_transform(data['message'].values) #it is basically saying to transform that message into a list of words and fit it \n",
    "\n",
    "classifier = MultinomialNB()\n",
    "targets = data['class'].values\n",
    "classifier.fit(counts, targets) #to train"
   ]
  },
  {
   "cell_type": "markdown",
   "metadata": {},
   "source": [
    "Now you can try out with various examples."
   ]
  },
  {
   "cell_type": "code",
   "execution_count": 25,
   "metadata": {},
   "outputs": [
    {
     "data": {
      "text/plain": [
       "array(['spam', 'ham'], dtype='<U4')"
      ]
     },
     "execution_count": 25,
     "metadata": {},
     "output_type": "execute_result"
    }
   ],
   "source": [
    "examples = ['Free Viagra now!!!', \"Hi Bob, how about a game of golf tomorrow?\"]\n",
    "example_counts = vectorizer.transform(examples)  #to change into list of words\n",
    "predictions = classifier.predict(example_counts) #to predict that list of words\n",
    "predictions"
   ]
  },
  {
   "cell_type": "code",
   "execution_count": null,
   "metadata": {},
   "outputs": [],
   "source": []
  }
 ],
 "metadata": {
  "kernelspec": {
   "display_name": "Python 3",
   "language": "python",
   "name": "python3"
  },
  "language_info": {
   "codemirror_mode": {
    "name": "ipython",
    "version": 3
   },
   "file_extension": ".py",
   "mimetype": "text/x-python",
   "name": "python",
   "nbconvert_exporter": "python",
   "pygments_lexer": "ipython3",
   "version": "3.8.5"
  }
 },
 "nbformat": 4,
 "nbformat_minor": 4
}
